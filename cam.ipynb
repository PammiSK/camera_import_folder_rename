{
 "cells": [
  {
   "cell_type": "code",
   "execution_count": 1,
   "metadata": {},
   "outputs": [
    {
     "name": "stdout",
     "output_type": "stream",
     "text": [
      " Volume in drive C has no label.\n",
      " Volume Serial Number is E2D8-DDA9\n",
      "\n",
      " Directory of c:\\Users\\Siva\\Pictures\n",
      "\n",
      "08/02/2025  03:48 PM    <DIR>          .\n",
      "08/02/2025  03:48 PM    <DIR>          ..\n",
      "08/02/2025  03:42 PM    <DIR>          11-12-2024\n",
      "08/02/2025  03:42 PM    <DIR>          12-12-2024\n",
      "08/02/2025  03:37 PM    <DIR>          14-12-2024\n",
      "08/02/2025  03:37 PM    <DIR>          15-12-2024\n",
      "28/10/2024  08:59 AM    <DIR>          19-10-2024\n",
      "28/04/2024  11:25 PM         1,989,999 20240428_222539.jpg\n",
      "28/04/2024  11:31 PM           974,020 20240428_223104.jpg\n",
      "08/02/2025  03:43 PM    <DIR>          26-11-2024\n",
      "08/02/2025  03:42 PM    <DIR>          27-11-2024\n",
      "28/10/2024  08:57 AM    <DIR>          28-10-2024\n",
      "28/06/2024  12:39 PM    <DIR>          4402 errors\n",
      "09/09/2024  02:15 AM    <DIR>          4K Stogram\n",
      "08/02/2025  03:42 PM    <DIR>          5-12-2024\n",
      "08/02/2025  03:34 PM    <DIR>          7-02-2025\n",
      "06/03/2024  11:26 PM    <DIR>          ASUS\n",
      "12/10/2024  11:11 PM    <DIR>          Bathurst Roadtrip\n",
      "08/02/2025  03:48 PM                 0 cam.ipynb\n",
      "11/07/2024  12:42 AM    <DIR>          Camera Roll\n",
      "01/08/2024  10:43 AM    <DIR>          CV Proj\n",
      "23/05/2024  04:04 PM    <DIR>          Saved Pictures\n",
      "17/07/2024  05:36 PM    <DIR>          UbisoftConnect\n",
      "               3 File(s)      2,964,019 bytes\n",
      "              20 Dir(s)  1,914,578,636,800 bytes free\n"
     ]
    }
   ],
   "source": [
    "ls"
   ]
  },
  {
   "cell_type": "code",
   "execution_count": 5,
   "metadata": {},
   "outputs": [
    {
     "name": "stdout",
     "output_type": "stream",
     "text": [
      "Renamed: 5-12-2024 -> 2024 12 05\n",
      "Renamed: 7-02-2025 -> 2025 02 07\n",
      "Renaming complete.\n"
     ]
    }
   ],
   "source": [
    "import os\n",
    "import re\n",
    "\n",
    "# Directory containing the folders\n",
    "dir_path = r\"C:\\Users\\Siva\\Pictures\"\n",
    "\n",
    "# Regex to match date format folders\n",
    "pattern = re.compile(r\"^(\\d{1,2})-(\\d{2})-(\\d{4})$\")\n",
    "\n",
    "for folder in os.listdir(dir_path):\n",
    "    match = pattern.match(folder)\n",
    "    if match:\n",
    "        day, month, year = match.groups()\n",
    "        new_name = f\"{year} {month.zfill(2)} {day.zfill(2)}\"  # Ensure two-digit day and month\n",
    "        old_path = os.path.join(dir_path, folder)\n",
    "        new_path = os.path.join(dir_path, new_name)\n",
    "        os.rename(old_path, new_path)\n",
    "        print(f\"Renamed: {folder} -> {new_name}\")\n",
    "\n",
    "print(\"Renaming complete.\")\n"
   ]
  }
 ],
 "metadata": {
  "kernelspec": {
   "display_name": "Python 3",
   "language": "python",
   "name": "python3"
  },
  "language_info": {
   "codemirror_mode": {
    "name": "ipython",
    "version": 3
   },
   "file_extension": ".py",
   "mimetype": "text/x-python",
   "name": "python",
   "nbconvert_exporter": "python",
   "pygments_lexer": "ipython3",
   "version": "3.13.0"
  }
 },
 "nbformat": 4,
 "nbformat_minor": 2
}
